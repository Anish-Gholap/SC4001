{
 "cells": [
  {
   "cell_type": "code",
   "id": "initial_id",
   "metadata": {
    "collapsed": true,
    "ExecuteTime": {
     "end_time": "2025-04-05T12:26:42.175768Z",
     "start_time": "2025-04-05T12:26:42.165905Z"
    }
   },
   "source": [
    "import glob\n",
    "from tqdm import tqdm\n",
    "import os\n",
    "import pandas as pd\n",
    "\n",
    "TRAIN_DIR = 'data/WASSA-2017/train'\n",
    "TEST_DIR = 'data/WASSA-2017/test'\n",
    "\n",
    "FILE_PATTERN = '*.txt'\n",
    "LABEL_SEPERATOR = '-'\n",
    "\n",
    "def get_label_from_filename(filename, seperator=LABEL_SEPERATOR):\n",
    "    base_name = os.path.basename(filename)\n",
    "    label = base_name.split(seperator)[0]\n",
    "    return label.lower()\n",
    "\n",
    "def load_data(data_dir, pattern, seperator):\n",
    "    all_files = glob.glob(os.path.join(data_dir, pattern))\n",
    "    if not all_files:\n",
    "        raise FileNotFoundError(f\"No files found matching '{pattern}' in directory {data_dir}\")\n",
    "\n",
    "    df_list = []\n",
    "    print(f\"loading files from {data_dir}\")\n",
    "    for filepath in tqdm(all_files, desc=\"Reading files\"):\n",
    "        try:\n",
    "            temp_df = pd.read_csv(filepath, sep='\\t', header=0)\n",
    "            label = get_label_from_filename(filepath, seperator)\n",
    "            temp_df['emotion'] = label\n",
    "            df_list.append(temp_df[['tweet', 'emotion']])\n",
    "\n",
    "        except Exception as e:\n",
    "            print(f\"Error processing file {filepath}: {e}\")\n",
    "            continue\n",
    "\n",
    "    if not df_list:\n",
    "        raise ValueError(f\"No dataframes were created from files in {data_dir}\")\n",
    "\n",
    "    combined_df = pd.concat(df_list, ignore_index=True)\n",
    "    print(f\"Loaded and combined {len(combined_df)} samples\")\n",
    "    print(f\"Found emotions: {combined_df['emotion'].unique().tolist()}\")\n",
    "    return combined_df"
   ],
   "outputs": [],
   "execution_count": 9
  },
  {
   "metadata": {
    "ExecuteTime": {
     "end_time": "2025-04-05T12:26:42.272561Z",
     "start_time": "2025-04-05T12:26:42.203698Z"
    }
   },
   "cell_type": "code",
   "source": [
    "train_df = load_data(data_dir=TRAIN_DIR, pattern=FILE_PATTERN, seperator=LABEL_SEPERATOR)\n",
    "test_df = load_data(data_dir=TEST_DIR, pattern=FILE_PATTERN, seperator=LABEL_SEPERATOR)"
   ],
   "id": "ff47b1001c60d304",
   "outputs": [
    {
     "name": "stdout",
     "output_type": "stream",
     "text": [
      "loading files from data/WASSA-2017/train\n"
     ]
    },
    {
     "name": "stderr",
     "output_type": "stream",
     "text": [
      "Reading files: 100%|██████████| 4/4 [00:00<00:00, 154.26it/s]\n"
     ]
    },
    {
     "name": "stdout",
     "output_type": "stream",
     "text": [
      "Loaded and combined 3613 samples\n",
      "Found emotions: ['anger', 'fear', 'joy', 'sadness']\n",
      "loading files from data/WASSA-2017/test\n"
     ]
    },
    {
     "name": "stderr",
     "output_type": "stream",
     "text": [
      "Reading files: 100%|██████████| 4/4 [00:00<00:00, 167.15it/s]"
     ]
    },
    {
     "name": "stdout",
     "output_type": "stream",
     "text": [
      "Loaded and combined 3142 samples\n",
      "Found emotions: ['anger', 'fear', 'joy', 'sadness']\n"
     ]
    },
    {
     "name": "stderr",
     "output_type": "stream",
     "text": [
      "\n"
     ]
    }
   ],
   "execution_count": 10
  },
  {
   "metadata": {
    "ExecuteTime": {
     "end_time": "2025-04-05T12:26:43.667621Z",
     "start_time": "2025-04-05T12:26:42.299681Z"
    }
   },
   "cell_type": "code",
   "source": [
    "from transformers import AutoTokenizer, ConvBertForSequenceClassification\n",
    "\n",
    "tokenizer = AutoTokenizer.from_pretrained(\"YituTech/conv-bert-base\")"
   ],
   "id": "76254da419d1ccf3",
   "outputs": [],
   "execution_count": 11
  },
  {
   "metadata": {
    "ExecuteTime": {
     "end_time": "2025-04-05T12:26:43.701049Z",
     "start_time": "2025-04-05T12:26:43.691950Z"
    }
   },
   "cell_type": "code",
   "source": [
    "label_map = {label: i for i, label in enumerate(train_df['emotion'].unique())}\n",
    "print(f\"Label mapping: {label_map}\")"
   ],
   "id": "6dbc8fa95fe86c9b",
   "outputs": [
    {
     "name": "stdout",
     "output_type": "stream",
     "text": [
      "Label mapping: {'anger': 0, 'fear': 1, 'joy': 2, 'sadness': 3}\n"
     ]
    }
   ],
   "execution_count": 12
  },
  {
   "metadata": {
    "ExecuteTime": {
     "end_time": "2025-04-05T12:26:43.743077Z",
     "start_time": "2025-04-05T12:26:43.733632Z"
    }
   },
   "cell_type": "code",
   "source": [
    "import torch\n",
    "from torch.utils.data import Dataset\n",
    "\n",
    "class EmotionDataset(Dataset):\n",
    "    def __init__(self, dataframe, tokenizer, max_length=128):\n",
    "        self.tweets = dataframe['tweet'].tolist()\n",
    "        # Convert string labels to numeric using our mapping\n",
    "        self.labels = [label_map[emotion] for emotion in dataframe['emotion'].tolist()]\n",
    "        self.tokenizer = tokenizer\n",
    "        self.max_length = max_length\n",
    "\n",
    "    def __len__(self):\n",
    "        return len(self.tweets)\n",
    "\n",
    "    def __getitem__(self, idx):\n",
    "        tweet = self.tweets[idx]\n",
    "        label = self.labels[idx]\n",
    "\n",
    "        # Tokenize the tweet\n",
    "        encoding = self.tokenizer(\n",
    "            tweet,\n",
    "            add_special_tokens=True,\n",
    "            max_length=self.max_length,\n",
    "            padding='max_length',\n",
    "            truncation=True,\n",
    "            return_attention_mask=True,\n",
    "            return_tensors='pt'  # Return PyTorch tensors\n",
    "        )\n",
    "\n",
    "        # Remove the batch dimension that the tokenizer adds by default\n",
    "        encoding = {key: val.squeeze(0) for key, val in encoding.items()}\n",
    "\n",
    "        # Add the label\n",
    "        encoding['labels'] = torch.tensor(label, dtype=torch.long)\n",
    "\n",
    "        return encoding"
   ],
   "id": "e9845d33376e5511",
   "outputs": [],
   "execution_count": 13
  },
  {
   "metadata": {
    "ExecuteTime": {
     "end_time": "2025-04-05T12:26:43.798781Z",
     "start_time": "2025-04-05T12:26:43.792720Z"
    }
   },
   "cell_type": "code",
   "source": [
    "trainset = EmotionDataset(train_df, tokenizer)\n",
    "testset = EmotionDataset(test_df, tokenizer)"
   ],
   "id": "3c0e3f7848a0699f",
   "outputs": [],
   "execution_count": 14
  },
  {
   "metadata": {
    "ExecuteTime": {
     "end_time": "2025-04-05T12:26:43.835062Z",
     "start_time": "2025-04-05T12:26:43.823401Z"
    }
   },
   "cell_type": "code",
   "source": [
    "from transformers import DataCollatorWithPadding\n",
    "data_collator = DataCollatorWithPadding(tokenizer)"
   ],
   "id": "9b381466f0e7ddd4",
   "outputs": [],
   "execution_count": 15
  },
  {
   "metadata": {
    "ExecuteTime": {
     "end_time": "2025-04-05T12:39:06.621495Z",
     "start_time": "2025-04-05T12:39:05.244167Z"
    }
   },
   "cell_type": "code",
   "source": [
    "import evaluate\n",
    "import numpy as np\n",
    "\n",
    "accuracy = evaluate.load(\"accuracy\")\n",
    "\n",
    "def compute_metrics(eval_pred):\n",
    "    predictions, labels = eval_pred\n",
    "    predictions = np.argmax(predictions, axis=1)\n",
    "    return accuracy.compute(predictions=predictions, references=labels)"
   ],
   "id": "4fb0b9d35d52b6a5",
   "outputs": [],
   "execution_count": 31
  },
  {
   "metadata": {
    "ExecuteTime": {
     "end_time": "2025-04-05T12:39:09.245501Z",
     "start_time": "2025-04-05T12:39:07.954147Z"
    }
   },
   "cell_type": "code",
   "source": [
    "model = ConvBertForSequenceClassification.from_pretrained(\n",
    "    \"YituTech/conv-bert-base\",\n",
    "    num_labels = len(label_map)\n",
    ")"
   ],
   "id": "c0c351f91631d725",
   "outputs": [
    {
     "name": "stderr",
     "output_type": "stream",
     "text": [
      "Some weights of ConvBertForSequenceClassification were not initialized from the model checkpoint at YituTech/conv-bert-base and are newly initialized: ['classifier.dense.bias', 'classifier.dense.weight', 'classifier.out_proj.bias', 'classifier.out_proj.weight']\n",
      "You should probably TRAIN this model on a down-stream task to be able to use it for predictions and inference.\n"
     ]
    }
   ],
   "execution_count": 32
  },
  {
   "metadata": {
    "ExecuteTime": {
     "end_time": "2025-04-05T12:42:24.119411Z",
     "start_time": "2025-04-05T12:39:10.382562Z"
    }
   },
   "cell_type": "code",
   "source": [
    "from transformers import TrainingArguments, Trainer\n",
    "\n",
    "training_args = TrainingArguments(\n",
    "    output_dir=\"./results\",\n",
    "    learning_rate=2e-5,\n",
    "    per_device_train_batch_size=16,\n",
    "    per_device_eval_batch_size=16,\n",
    "    num_train_epochs=2,\n",
    "    weight_decay=0.01,\n",
    "    eval_strategy=\"epoch\",\n",
    "    save_strategy=\"epoch\",\n",
    "    load_best_model_at_end=True,\n",
    "    push_to_hub=False,\n",
    ")\n",
    "\n",
    "trainer = Trainer(\n",
    "    model=model,\n",
    "    args=training_args,\n",
    "    train_dataset=trainset,\n",
    "    eval_dataset=testset,\n",
    "    processing_class=tokenizer,\n",
    "    data_collator=data_collator,\n",
    "    compute_metrics=compute_metrics,\n",
    ")\n",
    "\n",
    "trainer.train()"
   ],
   "id": "9260dbb3d7966307",
   "outputs": [
    {
     "data": {
      "text/plain": [
       "<IPython.core.display.HTML object>"
      ],
      "text/html": [
       "\n",
       "    <div>\n",
       "      \n",
       "      <progress value='33' max='452' style='width:300px; height:20px; vertical-align: middle;'></progress>\n",
       "      [ 33/452 03:08 < 42:28, 0.16 it/s, Epoch 0.14/2]\n",
       "    </div>\n",
       "    <table border=\"1\" class=\"dataframe\">\n",
       "  <thead>\n",
       " <tr style=\"text-align: left;\">\n",
       "      <th>Epoch</th>\n",
       "      <th>Training Loss</th>\n",
       "      <th>Validation Loss</th>\n",
       "    </tr>\n",
       "  </thead>\n",
       "  <tbody>\n",
       "  </tbody>\n",
       "</table><p>"
      ]
     },
     "metadata": {},
     "output_type": "display_data"
    },
    {
     "ename": "KeyboardInterrupt",
     "evalue": "",
     "output_type": "error",
     "traceback": [
      "\u001B[31m---------------------------------------------------------------------------\u001B[39m",
      "\u001B[31mKeyboardInterrupt\u001B[39m                         Traceback (most recent call last)",
      "\u001B[36mCell\u001B[39m\u001B[36m \u001B[39m\u001B[32mIn[33]\u001B[39m\u001B[32m, line 26\u001B[39m\n\u001B[32m      3\u001B[39m training_args = TrainingArguments(\n\u001B[32m      4\u001B[39m     output_dir=\u001B[33m\"\u001B[39m\u001B[33m./results\u001B[39m\u001B[33m\"\u001B[39m,\n\u001B[32m      5\u001B[39m     learning_rate=\u001B[32m2e-5\u001B[39m,\n\u001B[32m   (...)\u001B[39m\u001B[32m     13\u001B[39m     push_to_hub=\u001B[38;5;28;01mFalse\u001B[39;00m,\n\u001B[32m     14\u001B[39m )\n\u001B[32m     16\u001B[39m trainer = Trainer(\n\u001B[32m     17\u001B[39m     model=model,\n\u001B[32m     18\u001B[39m     args=training_args,\n\u001B[32m   (...)\u001B[39m\u001B[32m     23\u001B[39m     compute_metrics=compute_metrics,\n\u001B[32m     24\u001B[39m )\n\u001B[32m---> \u001B[39m\u001B[32m26\u001B[39m \u001B[43mtrainer\u001B[49m\u001B[43m.\u001B[49m\u001B[43mtrain\u001B[49m\u001B[43m(\u001B[49m\u001B[43m)\u001B[49m\n",
      "\u001B[36mFile \u001B[39m\u001B[32m~\\Desktop\\Projects\\School\\SC4001_Project\\.venv\\Lib\\site-packages\\transformers\\trainer.py:2245\u001B[39m, in \u001B[36mTrainer.train\u001B[39m\u001B[34m(self, resume_from_checkpoint, trial, ignore_keys_for_eval, **kwargs)\u001B[39m\n\u001B[32m   2243\u001B[39m         hf_hub_utils.enable_progress_bars()\n\u001B[32m   2244\u001B[39m \u001B[38;5;28;01melse\u001B[39;00m:\n\u001B[32m-> \u001B[39m\u001B[32m2245\u001B[39m     \u001B[38;5;28;01mreturn\u001B[39;00m \u001B[43minner_training_loop\u001B[49m\u001B[43m(\u001B[49m\n\u001B[32m   2246\u001B[39m \u001B[43m        \u001B[49m\u001B[43margs\u001B[49m\u001B[43m=\u001B[49m\u001B[43margs\u001B[49m\u001B[43m,\u001B[49m\n\u001B[32m   2247\u001B[39m \u001B[43m        \u001B[49m\u001B[43mresume_from_checkpoint\u001B[49m\u001B[43m=\u001B[49m\u001B[43mresume_from_checkpoint\u001B[49m\u001B[43m,\u001B[49m\n\u001B[32m   2248\u001B[39m \u001B[43m        \u001B[49m\u001B[43mtrial\u001B[49m\u001B[43m=\u001B[49m\u001B[43mtrial\u001B[49m\u001B[43m,\u001B[49m\n\u001B[32m   2249\u001B[39m \u001B[43m        \u001B[49m\u001B[43mignore_keys_for_eval\u001B[49m\u001B[43m=\u001B[49m\u001B[43mignore_keys_for_eval\u001B[49m\u001B[43m,\u001B[49m\n\u001B[32m   2250\u001B[39m \u001B[43m    \u001B[49m\u001B[43m)\u001B[49m\n",
      "\u001B[36mFile \u001B[39m\u001B[32m~\\Desktop\\Projects\\School\\SC4001_Project\\.venv\\Lib\\site-packages\\transformers\\trainer.py:2508\u001B[39m, in \u001B[36mTrainer._inner_training_loop\u001B[39m\u001B[34m(self, batch_size, args, resume_from_checkpoint, trial, ignore_keys_for_eval)\u001B[39m\n\u001B[32m   2506\u001B[39m update_step += \u001B[32m1\u001B[39m\n\u001B[32m   2507\u001B[39m num_batches = args.gradient_accumulation_steps \u001B[38;5;28;01mif\u001B[39;00m update_step != (total_updates - \u001B[32m1\u001B[39m) \u001B[38;5;28;01melse\u001B[39;00m remainder\n\u001B[32m-> \u001B[39m\u001B[32m2508\u001B[39m batch_samples, num_items_in_batch = \u001B[38;5;28;43mself\u001B[39;49m\u001B[43m.\u001B[49m\u001B[43mget_batch_samples\u001B[49m\u001B[43m(\u001B[49m\u001B[43mepoch_iterator\u001B[49m\u001B[43m,\u001B[49m\u001B[43m \u001B[49m\u001B[43mnum_batches\u001B[49m\u001B[43m,\u001B[49m\u001B[43m \u001B[49m\u001B[43margs\u001B[49m\u001B[43m.\u001B[49m\u001B[43mdevice\u001B[49m\u001B[43m)\u001B[49m\n\u001B[32m   2509\u001B[39m \u001B[38;5;28;01mfor\u001B[39;00m i, inputs \u001B[38;5;129;01min\u001B[39;00m \u001B[38;5;28menumerate\u001B[39m(batch_samples):\n\u001B[32m   2510\u001B[39m     step += \u001B[32m1\u001B[39m\n",
      "\u001B[36mFile \u001B[39m\u001B[32m~\\Desktop\\Projects\\School\\SC4001_Project\\.venv\\Lib\\site-packages\\transformers\\trainer.py:5224\u001B[39m, in \u001B[36mTrainer.get_batch_samples\u001B[39m\u001B[34m(self, epoch_iterator, num_batches, device)\u001B[39m\n\u001B[32m   5222\u001B[39m \u001B[38;5;28;01mfor\u001B[39;00m _ \u001B[38;5;129;01min\u001B[39;00m \u001B[38;5;28mrange\u001B[39m(num_batches):\n\u001B[32m   5223\u001B[39m     \u001B[38;5;28;01mtry\u001B[39;00m:\n\u001B[32m-> \u001B[39m\u001B[32m5224\u001B[39m         batch_samples += [\u001B[38;5;28;43mnext\u001B[39;49m\u001B[43m(\u001B[49m\u001B[43mepoch_iterator\u001B[49m\u001B[43m)\u001B[49m]\n\u001B[32m   5225\u001B[39m     \u001B[38;5;28;01mexcept\u001B[39;00m \u001B[38;5;167;01mStopIteration\u001B[39;00m:\n\u001B[32m   5226\u001B[39m         \u001B[38;5;28;01mbreak\u001B[39;00m\n",
      "\u001B[36mFile \u001B[39m\u001B[32m~\\Desktop\\Projects\\School\\SC4001_Project\\.venv\\Lib\\site-packages\\accelerate\\data_loader.py:575\u001B[39m, in \u001B[36mDataLoaderShard.__iter__\u001B[39m\u001B[34m(self)\u001B[39m\n\u001B[32m    572\u001B[39m \u001B[38;5;28;01mtry\u001B[39;00m:\n\u001B[32m    573\u001B[39m     \u001B[38;5;66;03m# But we still move it to the device so it is done before `StopIteration` is reached\u001B[39;00m\n\u001B[32m    574\u001B[39m     \u001B[38;5;28;01mif\u001B[39;00m \u001B[38;5;28mself\u001B[39m.device \u001B[38;5;129;01mis\u001B[39;00m \u001B[38;5;129;01mnot\u001B[39;00m \u001B[38;5;28;01mNone\u001B[39;00m:\n\u001B[32m--> \u001B[39m\u001B[32m575\u001B[39m         current_batch = \u001B[43msend_to_device\u001B[49m\u001B[43m(\u001B[49m\u001B[43mcurrent_batch\u001B[49m\u001B[43m,\u001B[49m\u001B[43m \u001B[49m\u001B[38;5;28;43mself\u001B[39;49m\u001B[43m.\u001B[49m\u001B[43mdevice\u001B[49m\u001B[43m,\u001B[49m\u001B[43m \u001B[49m\u001B[43mnon_blocking\u001B[49m\u001B[43m=\u001B[49m\u001B[38;5;28;43mself\u001B[39;49m\u001B[43m.\u001B[49m\u001B[43m_non_blocking\u001B[49m\u001B[43m)\u001B[49m\n\u001B[32m    576\u001B[39m     \u001B[38;5;28mself\u001B[39m._update_state_dict()\n\u001B[32m    577\u001B[39m     next_batch = \u001B[38;5;28mnext\u001B[39m(dataloader_iter)\n",
      "\u001B[36mFile \u001B[39m\u001B[32m~\\Desktop\\Projects\\School\\SC4001_Project\\.venv\\Lib\\site-packages\\accelerate\\utils\\operations.py:153\u001B[39m, in \u001B[36msend_to_device\u001B[39m\u001B[34m(tensor, device, non_blocking, skip_keys)\u001B[39m\n\u001B[32m    151\u001B[39m     device = \u001B[33m\"\u001B[39m\u001B[33mnpu:0\u001B[39m\u001B[33m\"\u001B[39m\n\u001B[32m    152\u001B[39m \u001B[38;5;28;01mtry\u001B[39;00m:\n\u001B[32m--> \u001B[39m\u001B[32m153\u001B[39m     \u001B[38;5;28;01mreturn\u001B[39;00m \u001B[43mtensor\u001B[49m\u001B[43m.\u001B[49m\u001B[43mto\u001B[49m\u001B[43m(\u001B[49m\u001B[43mdevice\u001B[49m\u001B[43m,\u001B[49m\u001B[43m \u001B[49m\u001B[43mnon_blocking\u001B[49m\u001B[43m=\u001B[49m\u001B[43mnon_blocking\u001B[49m\u001B[43m)\u001B[49m\n\u001B[32m    154\u001B[39m \u001B[38;5;28;01mexcept\u001B[39;00m \u001B[38;5;167;01mTypeError\u001B[39;00m:  \u001B[38;5;66;03m# .to() doesn't accept non_blocking as kwarg\u001B[39;00m\n\u001B[32m    155\u001B[39m     \u001B[38;5;28;01mreturn\u001B[39;00m tensor.to(device)\n",
      "\u001B[36mFile \u001B[39m\u001B[32m~\\Desktop\\Projects\\School\\SC4001_Project\\.venv\\Lib\\site-packages\\transformers\\tokenization_utils_base.py:821\u001B[39m, in \u001B[36mBatchEncoding.to\u001B[39m\u001B[34m(self, device, non_blocking)\u001B[39m\n\u001B[32m    816\u001B[39m \u001B[38;5;66;03m# This check catches things like APEX blindly calling \"to\" on all inputs to a module\u001B[39;00m\n\u001B[32m    817\u001B[39m \u001B[38;5;66;03m# Otherwise it passes the casts down and casts the LongTensor containing the token idxs\u001B[39;00m\n\u001B[32m    818\u001B[39m \u001B[38;5;66;03m# into a HalfTensor\u001B[39;00m\n\u001B[32m    819\u001B[39m \u001B[38;5;28;01mif\u001B[39;00m \u001B[38;5;28misinstance\u001B[39m(device, \u001B[38;5;28mstr\u001B[39m) \u001B[38;5;129;01mor\u001B[39;00m is_torch_device(device) \u001B[38;5;129;01mor\u001B[39;00m \u001B[38;5;28misinstance\u001B[39m(device, \u001B[38;5;28mint\u001B[39m):\n\u001B[32m    820\u001B[39m     \u001B[38;5;28mself\u001B[39m.data = {\n\u001B[32m--> \u001B[39m\u001B[32m821\u001B[39m         k: \u001B[43mv\u001B[49m\u001B[43m.\u001B[49m\u001B[43mto\u001B[49m\u001B[43m(\u001B[49m\u001B[43mdevice\u001B[49m\u001B[43m=\u001B[49m\u001B[43mdevice\u001B[49m\u001B[43m,\u001B[49m\u001B[43m \u001B[49m\u001B[43mnon_blocking\u001B[49m\u001B[43m=\u001B[49m\u001B[43mnon_blocking\u001B[49m\u001B[43m)\u001B[49m \u001B[38;5;28;01mif\u001B[39;00m \u001B[38;5;28misinstance\u001B[39m(v, torch.Tensor) \u001B[38;5;28;01melse\u001B[39;00m v\n\u001B[32m    822\u001B[39m         \u001B[38;5;28;01mfor\u001B[39;00m k, v \u001B[38;5;129;01min\u001B[39;00m \u001B[38;5;28mself\u001B[39m.data.items()\n\u001B[32m    823\u001B[39m     }\n\u001B[32m    824\u001B[39m \u001B[38;5;28;01melse\u001B[39;00m:\n\u001B[32m    825\u001B[39m     logger.warning(\u001B[33mf\u001B[39m\u001B[33m\"\u001B[39m\u001B[33mAttempting to cast a BatchEncoding to type \u001B[39m\u001B[38;5;132;01m{\u001B[39;00m\u001B[38;5;28mstr\u001B[39m(device)\u001B[38;5;132;01m}\u001B[39;00m\u001B[33m. This is not supported.\u001B[39m\u001B[33m\"\u001B[39m)\n",
      "\u001B[31mKeyboardInterrupt\u001B[39m: "
     ]
    }
   ],
   "execution_count": 33
  }
 ],
 "metadata": {
  "kernelspec": {
   "display_name": "Python 3",
   "language": "python",
   "name": "python3"
  },
  "language_info": {
   "codemirror_mode": {
    "name": "ipython",
    "version": 2
   },
   "file_extension": ".py",
   "mimetype": "text/x-python",
   "name": "python",
   "nbconvert_exporter": "python",
   "pygments_lexer": "ipython2",
   "version": "2.7.6"
  }
 },
 "nbformat": 4,
 "nbformat_minor": 5
}
